{
 "cells": [
  {
   "cell_type": "code",
   "execution_count": 1,
   "metadata": {
    "collapsed": false
   },
   "outputs": [],
   "source": [
    "import os\n",
    "from bottle import route, run\n",
    "from bottle import template\n",
    "import time \n",
    "import requests\n",
    "import cv2\n",
    "import operator\n",
    "import numpy as np\n",
    "from __future__ import print_function\n",
    "# Import library to display results\n",
    "import matplotlib.pyplot as plt\n",
    "from bottle import request\n",
    "\n",
    "\n",
    "os.chdir(\"C:\\Indira\\Codes\\BottleApp\")"
   ]
  },
  {
   "cell_type": "code",
   "execution_count": 2,
   "metadata": {
    "collapsed": false
   },
   "outputs": [],
   "source": [
    "from bottle import static_file,get\n",
    "_url = 'https://westus.api.cognitive.microsoft.com/vision/v1.0/analyze?'\n",
    "_key = 'ddd4c6b08a344f8494939e814aa45339'\n",
    "_maxNumRetries = 10  \n",
    "@get(\"/static/img/<filepath:re:.*\\.(jpg|png|gif|ico|svg)>\")\n",
    "def img(filepath):\n",
    "    return static_file(filepath, root=\"static/images/work/\")\n",
    "\n",
    " \n",
    "@get(\"/static/css/<filepath:re:.*\\.css>\")\n",
    "def css(filepath):\n",
    "    return static_file(filepath, root=\"static/css/\")\n",
    "\n",
    "@get(\"/static/js/<filepath:re:.*\\.js>\")\n",
    "def js(filepath):\n",
    "    return static_file(filepath, root=\"static/js/\")\n"
   ]
  },
  {
   "cell_type": "code",
   "execution_count": 4,
   "metadata": {
    "collapsed": false
   },
   "outputs": [],
   "source": [
    "def processRequest( json, data, headers, params ):\n",
    "\n",
    "    \"\"\"\n",
    "    Helper function to process the request to Project Oxford\n",
    "\n",
    "    Parameters:\n",
    "    json: Used when processing images from its URL. See API Documentation\n",
    "    data: Used when processing image read from disk. See API Documentation\n",
    "    headers: Used to pass the key information and the data type request\n",
    "    \"\"\"\n",
    "\n",
    "    retries = 0\n",
    "    result = None\n",
    "    while True:\n",
    "\n",
    "        response = requests.request( 'post', _url, json = json, data = data, headers = headers, params = params )\n",
    "\n",
    "        if response.status_code == 429: \n",
    "\n",
    "            print( \"Message: %s\" % ( response.json()['message'] ) )\n",
    "\n",
    "            if retries <= _maxNumRetries: \n",
    "                time.sleep(1) \n",
    "                retries += 1\n",
    "                continue\n",
    "            else: \n",
    "                print( 'Error: failed after retrying!' )\n",
    "                break\n",
    "\n",
    "        elif response.status_code == 200 or response.status_code == 201:\n",
    "\n",
    "            if 'content-length' in response.headers and int(response.headers['content-length']) == 0: \n",
    "                result = None \n",
    "            elif 'content-type' in response.headers and isinstance(response.headers['content-type'], str): \n",
    "                if 'application/json' in response.headers['content-type'].lower(): \n",
    "                    result = response.json() if response.content else None \n",
    "                elif 'image' in response.headers['content-type'].lower(): \n",
    "                    result = response.content\n",
    "        else:\n",
    "            print( \"Error code: %d\" % ( response.status_code ) )\n",
    "            print( \"Message: %s\" % ( response.json()['message'] ) )\n",
    "\n",
    "        break\n",
    "        \n",
    "    return result"
   ]
  },
  {
   "cell_type": "code",
   "execution_count": 5,
   "metadata": {
    "collapsed": true
   },
   "outputs": [],
   "source": [
    "def renderResultOnImage( result, img ):\n",
    "   \n",
    "    \"\"\"Display the obtained results onto the input image\"\"\"\n",
    "\n",
    "    R = int(result['color']['accentColor'][:2],16)\n",
    "    G = int(result['color']['accentColor'][2:4],16)\n",
    "    B = int(result['color']['accentColor'][4:],16) ;\n",
    "    cv2.rectangle( img,(0,0), (img.shape[1], img.shape[0]), color = (R,G,B), thickness = 25 )\n",
    "\n",
    "    if 'description' in result:\n",
    "        desc = result['description']['captions'][0]['text']\n",
    "        cv2.putText( img, desc, (200,70), cv2.FONT_HERSHEY_DUPLEX, 2, (73,25,180), 2 )\n",
    "        print(desc)\n"
   ]
  },
  {
   "cell_type": "code",
   "execution_count": 11,
   "metadata": {
    "collapsed": false,
    "scrolled": true
   },
   "outputs": [],
   "source": [
    "@route('/edit')\n",
    "def edit():\n",
    "    info = []\n",
    "    return template('simple.tpl', info)\n",
    "\n",
    "\n",
    "@route('/vision')\n",
    "def vision():\n",
    "    return(template(\"vision.tpl\"))\n",
    "\n",
    "@route('/vision/info')\n",
    "def vision(info):\n",
    "    return(template(\"visionWImg.tpl\",info))\n",
    "\n"
   ]
  },
  {
   "cell_type": "code",
   "execution_count": 12,
   "metadata": {
    "collapsed": false
   },
   "outputs": [],
   "source": [
    "@route('/upload', method = 'POST')\n",
    "def upload():\n",
    "    upload = request.files.get('upload')\n",
    "    name, ext = os.path.splitext(upload.filename)\n",
    "    if ext not in ('.png', '.jpg', '.jpeg'):\n",
    "        return \"File extension not allowed.\"\n",
    "\n",
    "    save_path = \"./tmp/upload\"\n",
    "    if not os.path.exists(save_path):\n",
    "        os.makedirs(save_path)\n",
    "\n",
    "    file_path = \"{path}/{file}\".format(path=save_path, file=upload.filename)\n",
    "    upload.save(file_path)\n",
    "    \n",
    "    # Use the uploaded file for processing \n",
    "    # URL direction to image\n",
    "    # urlImage = 'http://bboceansuites.com/wp-content/uploads/2015/05/sunset-beach-chairs-stock-footage.jpg'\n",
    "    \n",
    "    pathToFileInDisk = file_path\n",
    "    with open( pathToFileInDisk, 'rb' ) as f:\n",
    "        data = f.read()\n",
    "    \n",
    "    # Computer Vision parameters\n",
    "    params = { 'visualFeatures' : 'Color,Categories,Faces,Description'} \n",
    "\n",
    "    headers = dict()\n",
    "    headers['Ocp-Apim-Subscription-Key'] = _key\n",
    "    #headers['Content-Type'] = 'application/json' \n",
    "    headers['Content-Type'] = 'application/octet-stream'\n",
    "    json = None\n",
    "    #json = { 'url': urlImage } \n",
    "    #data = None\n",
    "    result = processRequest( json, data, headers, params )\n",
    "    if result is not None:\n",
    "        # Load the original image, fetched from the URL\n",
    "        data8uint = np.fromstring( data, np.uint8 ) # Convert string to an unsigned int array\n",
    "        img = cv2.cvtColor( cv2.imdecode( data8uint, cv2.IMREAD_COLOR ), cv2.COLOR_BGR2RGB )\n",
    "        renderResultOnImage( result, img )\n",
    "        cv2.imwrite(os.path.join('./tmp/upload', \"vision_op2.jpg\"),img)\n",
    "        info = img\n",
    "        return template('vision.tpl', img)  "
   ]
  },
  {
   "cell_type": "code",
   "execution_count": null,
   "metadata": {
    "collapsed": false
   },
   "outputs": [
    {
     "name": "stderr",
     "output_type": "stream",
     "text": [
      "Bottle v0.12.13 server starting up (using WSGIRefServer())...\n",
      "Listening on http://localhost:8080/\n",
      "Hit Ctrl-C to quit.\n",
      "\n",
      "127.0.0.1 - - [27/Mar/2017 11:00:42] \"GET / HTTP/1.1\" 404 720\n",
      "127.0.0.1 - - [27/Mar/2017 11:00:45] \"GET /edit HTTP/1.1\" 200 2131\n",
      "127.0.0.1 - - [27/Mar/2017 11:00:45] \"GET /static/images/pfd-sprites.png HTTP/1.1\" 404 778\n",
      "127.0.0.1 - - [27/Mar/2017 11:00:46] \"GET /edit HTTP/1.1\" 200 2131\n",
      "127.0.0.1 - - [27/Mar/2017 11:00:46] \"GET /static/images/pfd-sprites.png HTTP/1.1\" 404 778\n",
      "127.0.0.1 - - [27/Mar/2017 11:00:47] \"GET /vision HTTP/1.1\" 200 1286\n",
      "Traceback (most recent call last):\n",
      "  File \"C:\\ProgramData\\Anaconda2\\lib\\site-packages\\bottle.py\", line 862, in _handle\n",
      "    return route.call(**args)\n",
      "  File \"C:\\ProgramData\\Anaconda2\\lib\\site-packages\\bottle.py\", line 1740, in wrapper\n",
      "    rv = callback(*a, **ka)\n",
      "  File \"<ipython-input-12-d9218ffefc10>\", line 4, in upload\n",
      "    name, ext = os.path.splitext(upload.filename)\n",
      "AttributeError: 'NoneType' object has no attribute 'filename'\n",
      "127.0.0.1 - - [27/Mar/2017 11:00:50] \"POST /upload HTTP/1.1\" 500 1451\n"
     ]
    },
    {
     "name": "stdout",
     "output_type": "stream",
     "text": [
      "a close up of two giraffes near a tree\n"
     ]
    },
    {
     "name": "stderr",
     "output_type": "stream",
     "text": [
      "Traceback (most recent call last):\n",
      "  File \"C:\\ProgramData\\Anaconda2\\lib\\site-packages\\bottle.py\", line 862, in _handle\n",
      "    return route.call(**args)\n",
      "  File \"C:\\ProgramData\\Anaconda2\\lib\\site-packages\\bottle.py\", line 1740, in wrapper\n",
      "    rv = callback(*a, **ka)\n",
      "  File \"<ipython-input-12-d9218ffefc10>\", line 41, in upload\n",
      "    return template('vision.tpl', img)\n",
      "  File \"C:\\ProgramData\\Anaconda2\\lib\\site-packages\\bottle.py\", line 3618, in template\n",
      "    for dictarg in args[1:]: kwargs.update(dictarg)\n",
      "ValueError: dictionary update sequence element #0 has length 534; 2 is required\n",
      "127.0.0.1 - - [27/Mar/2017 11:01:11] \"POST /upload HTTP/1.1\" 500 1595\n"
     ]
    }
   ],
   "source": [
    "run(host='localhost', port=8080, debug=True)"
   ]
  },
  {
   "cell_type": "code",
   "execution_count": 89,
   "metadata": {
    "collapsed": false
   },
   "outputs": [
    {
     "name": "stdout",
     "output_type": "stream",
     "text": [
      "Help on built-in function imwrite:\n",
      "\n",
      "imwrite(...)\n",
      "    imwrite(filename, img[, params]) -> retval\n",
      "\n"
     ]
    }
   ],
   "source": [
    "help(cv2.imwrite)\n"
   ]
  },
  {
   "cell_type": "code",
   "execution_count": null,
   "metadata": {
    "collapsed": true
   },
   "outputs": [],
   "source": []
  }
 ],
 "metadata": {
  "kernelspec": {
   "display_name": "Python 2",
   "language": "python",
   "name": "python2"
  },
  "language_info": {
   "codemirror_mode": {
    "name": "ipython",
    "version": 2
   },
   "file_extension": ".py",
   "mimetype": "text/x-python",
   "name": "python",
   "nbconvert_exporter": "python",
   "pygments_lexer": "ipython2",
   "version": "2.7.13"
  }
 },
 "nbformat": 4,
 "nbformat_minor": 2
}
